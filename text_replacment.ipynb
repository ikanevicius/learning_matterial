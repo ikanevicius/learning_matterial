{
 "cells": [
  {
   "cell_type": "code",
   "execution_count": 19,
   "metadata": {},
   "outputs": [
    {
     "name": "stdout",
     "output_type": "stream",
     "text": [
      "Word 'Linas' is selected and ready to change.\n",
      "The word 'Linas' has been replaced! The new text now looks like this:\n",
      "'Hello, my name is Mindaugas and I`m learning Python!'\n"
     ]
    }
   ],
   "source": [
    "# tekstas su kuriuo yra dirbama:\n",
    "txt = \"Hello, my name is Linas and I`m learning Python!\"\n",
    "\n",
    "# ieškomo žodžio įvestis:\n",
    "word_selected = input(\"Enter the word you are looking: \")\n",
    "change_word = (txt [txt.find(word_selected) : (txt.find(word_selected) + len(word_selected))])\n",
    "\n",
    "# sistema patikrina ar įvestas žodis yra teskte:\n",
    "word_check = txt.find(word_selected)\n",
    "if word_check >= 0:\n",
    "    print (f\"Word '{change_word}' is selected and ready to change.\")\n",
    "\n",
    "    # įvedamas žodis, kuriuo norima pakeisti pasirinktą tekstą:\n",
    "    change_to = input(f\"To what word you want to change '{word_selected}'?\")\n",
    "    txt = txt.replace(word_selected, change_to)\n",
    "\n",
    "    # vartotojui pateikiama informacija apie padarytus pakeitimus:\n",
    "    print(f\"The word '{word_selected}' has been replaced! The new text now looks like this:\")\n",
    "    print(f\"'{txt}'\")\n",
    "\n",
    "# sistemai nustačius, kad žodžio tekste nėra:\n",
    "else:\n",
    "    print(f\"Word '{word_selected}' was not found.\")"
   ]
  },
  {
   "cell_type": "code",
   "execution_count": 22,
   "metadata": {},
   "outputs": [
    {
     "name": "stdout",
     "output_type": "stream",
     "text": [
      "Word 'Linas' is selected and ready to change.\n",
      "The word 'Linas' has been replaced! The new text now looks like this:\n",
      "'Hello, my name is Donatas and I`m learning Python!'\n"
     ]
    }
   ],
   "source": [
    "# tekstas su kuriuo yra dirbama:\n",
    "txt = \"Hello, my name is Linas and I`m learning Python!\"\n",
    "\n",
    "# ieškomo žodžio įvestis:\n",
    "word_selected = input(\"Enter the word you are looking: \")\n",
    "\n",
    "# sistema patikrina ar įvestas žodis yra teskte:\n",
    "word_check = word_selected in txt\n",
    "if word_check:\n",
    "    print (f\"Word '{word_selected}' is selected and ready to change.\")\n",
    "\n",
    "    # įvedamas žodis, kuriuo norima pakeisti pasirinktą tekstą:\n",
    "    change_to = input(f\"To what word you want to change '{word_selected}'?\")\n",
    "    txt = txt.replace(word_selected, change_to)\n",
    "\n",
    "    # vartotojui pateikiama informacija apie padarytus pakeitimus:\n",
    "    print(f\"The word '{word_selected}' has been replaced! The new text now looks like this:\")\n",
    "    print(f\"'{txt}'\")\n",
    "\n",
    "# sistemai nustačius, kad ieškomo žodžio tekste nėra:\n",
    "else:\n",
    "    print(f\"Word '{word_selected}' was not found.\")"
   ]
  }
 ],
 "metadata": {
  "interpreter": {
   "hash": "b89b5cfaba6639976dc87ff2fec6d58faec662063367e2c229c520fe71072417"
  },
  "kernelspec": {
   "display_name": "Python 3.10.1 64-bit",
   "language": "python",
   "name": "python3"
  },
  "language_info": {
   "codemirror_mode": {
    "name": "ipython",
    "version": 3
   },
   "file_extension": ".py",
   "mimetype": "text/x-python",
   "name": "python",
   "nbconvert_exporter": "python",
   "pygments_lexer": "ipython3",
   "version": "3.10.1"
  },
  "orig_nbformat": 4
 },
 "nbformat": 4,
 "nbformat_minor": 2
}

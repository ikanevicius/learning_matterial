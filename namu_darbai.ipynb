{
 "cells": [
  {
   "cell_type": "markdown",
   "metadata": {},
   "source": [
    "### 01 | Buzz&Fizz (from 'Namų darbai 1')"
   ]
  },
  {
   "cell_type": "code",
   "execution_count": 33,
   "metadata": {},
   "outputs": [
    {
     "name": "stdout",
     "output_type": "stream",
     "text": [
      "001: -\n",
      "002: Fizz\n",
      "003: Buzz\n",
      "004: Fizz\n",
      "005: -\n",
      "006: FizzBuzz\n",
      "007: -\n",
      "008: Fizz\n",
      "009: Buzz\n",
      "010: Fizz\n",
      "011: -\n",
      "012: FizzBuzz\n",
      "013: -\n",
      "014: Fizz\n",
      "015: Buzz\n",
      "016: Fizz\n",
      "017: -\n",
      "018: FizzBuzz\n",
      "019: -\n",
      "020: Fizz\n",
      "021: Buzz\n",
      "022: Fizz\n",
      "023: -\n",
      "024: FizzBuzz\n",
      "025: -\n",
      "026: Fizz\n",
      "027: Buzz\n",
      "028: Fizz\n",
      "029: -\n",
      "030: FizzBuzz\n",
      "031: -\n",
      "032: Fizz\n",
      "033: Buzz\n",
      "034: Fizz\n",
      "035: -\n",
      "036: FizzBuzz\n",
      "037: -\n",
      "038: Fizz\n",
      "039: Buzz\n",
      "040: Fizz\n",
      "041: -\n",
      "042: FizzBuzz\n",
      "043: -\n",
      "044: Fizz\n",
      "045: Buzz\n",
      "046: Fizz\n",
      "047: -\n",
      "048: FizzBuzz\n",
      "049: -\n",
      "050: Fizz\n",
      "051: Buzz\n",
      "052: Fizz\n",
      "053: -\n",
      "054: FizzBuzz\n",
      "055: -\n",
      "056: Fizz\n",
      "057: Buzz\n",
      "058: Fizz\n",
      "059: -\n",
      "060: FizzBuzz\n",
      "061: -\n",
      "062: Fizz\n",
      "063: Buzz\n",
      "064: Fizz\n",
      "065: -\n",
      "066: FizzBuzz\n",
      "067: -\n",
      "068: Fizz\n",
      "069: Buzz\n",
      "070: Fizz\n",
      "071: -\n",
      "072: FizzBuzz\n",
      "073: -\n",
      "074: Fizz\n",
      "075: Buzz\n",
      "076: Fizz\n",
      "077: -\n",
      "078: FizzBuzz\n",
      "079: -\n",
      "080: Fizz\n",
      "081: Buzz\n",
      "082: Fizz\n",
      "083: -\n",
      "084: FizzBuzz\n",
      "085: -\n",
      "086: Fizz\n",
      "087: Buzz\n",
      "088: Fizz\n",
      "089: -\n",
      "090: FizzBuzz\n",
      "091: -\n",
      "092: Fizz\n",
      "093: Buzz\n",
      "094: Fizz\n",
      "095: -\n",
      "096: FizzBuzz\n",
      "097: -\n",
      "098: Fizz\n",
      "099: Buzz\n",
      "100: Fizz\n"
     ]
    }
   ],
   "source": [
    "# Iš pirmų 100 skaičių:\n",
    "# skaičiui dalinantis iš 2 be liekanos atspausdinkite ‘Fizz’;\n",
    "# skaičiui dalinantis iš 3 be liekanos atspausdinkite ‘Buzz’;\n",
    "# skaičiui dalinantis iš 2 ir 3 be liekanos, atspausdinkite ‘FizzBuzz’.\n",
    "\n",
    "numbers = list(range(1, 101))\n",
    "for number in numbers:\n",
    "        if (number % 2 == 0) and (number % 3 == 0):\n",
    "            print(f\"{number:03d}: FizzBuzz\")\n",
    "        elif ((number % 2 != 0) and (number % 3 != 0)):\n",
    "            print(f\"{number:03d}: -\")\n",
    "        else:\n",
    "            if (number % 2 == 0):\n",
    "                print(f\"{number:03d}: Fizz\")\n",
    "            if (number % 3 == 0):\n",
    "                print(f\"{number:03d}: Buzz\")"
   ]
  },
  {
   "cell_type": "markdown",
   "metadata": {},
   "source": [
    "### 02 | Program No. 2 (from 'Namų darbai 1')"
   ]
  },
  {
   "cell_type": "code",
   "execution_count": 31,
   "metadata": {},
   "outputs": [
    {
     "name": "stdout",
     "output_type": "stream",
     "text": [
      "You can`t divide these numbers from 5:\n",
      "[1, 2, 3, 4, 6, 7, 8, 9, 11, 12, 13, 14, 16, 17, 18, 19, 21, 22, 23, 24, 26, 27]\n"
     ]
    }
   ],
   "source": [
    "# Leiskite vartotojui pasirinkti skaičių, jeigu įvestas skaičius yra daugiau arba lygus 10, \n",
    "# atspausdinkite visus skaičius iki pateikto skaičiaus, kurie dalinasi iš 5 su liekana.\n",
    "\n",
    "num_selected = int(input(\"Enter your number: \"))\n",
    "num_before = list(range(0,num_selected + 1))\n",
    "if num_selected >= 10:\n",
    "    num_5 = [num_5 for num_5 in num_before if num_5 % 5 != 0]\n",
    "print(f\"\"\"You can`t divide these numbers from 5:\n",
    "{num_5}\"\"\")"
   ]
  },
  {
   "cell_type": "markdown",
   "metadata": {},
   "source": [
    "### 03 | Program No. 3 (from 'Namų darbai 1')"
   ]
  },
  {
   "cell_type": "code",
   "execution_count": 38,
   "metadata": {},
   "outputs": [
    {
     "name": "stdout",
     "output_type": "stream",
     "text": [
      "Total number of items in all lists: 14\n"
     ]
    }
   ],
   "source": [
    "# 3. Koks yra sąrašo ilgis sudaryto iš pateiktų sąrašų kombinacijų, jeigu norime rasti \n",
    "# visas įmanomas reikšmes? Išrikiuokite sąrašą nuo didžiausios iki mažiausios reikšmės \n",
    "# (teks atlikti papildomų veiksmų tam atlikti teisingai)\n",
    "\n",
    "a = ['1','2','3','4','5']\n",
    "b = ['labas', 'vakaras', 'kokia grazi diena', 'siandien uz lango', '10 laipsniu silumos']\n",
    "c = ['100', '200', 40, 10]\n",
    "\n",
    "full_list = a + b + c\n",
    "full_list_len = len(full_list)\n",
    "print(f\"Total number of items in all lists: {full_list_len}\")\n",
    "\n",
    "\n",
    "\n"
   ]
  },
  {
   "cell_type": "markdown",
   "metadata": {},
   "source": [
    "### 01 | Program No. 1 (from 'Namų darbai 2')"
   ]
  },
  {
   "cell_type": "code",
   "execution_count": 46,
   "metadata": {},
   "outputs": [
    {
     "name": "stdout",
     "output_type": "stream",
     "text": [
      "Pasikartojantys skaičiai: [3, 8, 9, 15]\n"
     ]
    }
   ],
   "source": [
    "# Rasti pasikartojančius elementus tarp dviejų sąrašų:\n",
    "\n",
    "a = [1,2,3,4,5,6,7,8,9,15]\n",
    "b = [3,8,9,11,15]\n",
    "\n",
    "a_tmp = set(a)\n",
    "b_tmp = set(b)\n",
    "\n",
    "set_tmp = a_tmp.intersection(b_tmp)\n",
    "\n",
    "final_list = list(set_tmp)\n",
    "final_list.sort(reverse = False)\n",
    "\n",
    "print(f\"Pasikartojantys skaičiai: {final_list}\")"
   ]
  },
  {
   "cell_type": "markdown",
   "metadata": {},
   "source": [
    "### 02 | Program No. 2 (from 'Namų darbai 2')"
   ]
  },
  {
   "cell_type": "code",
   "execution_count": 58,
   "metadata": {},
   "outputs": [
    {
     "name": "stdout",
     "output_type": "stream",
     "text": [
      "Visi teigiami skaičiai sąraše: [1, 5, 1, 2, 8, 10, 1, 14, 5, 2, 1, 900, 800, 12, 1]\n",
      "Visi teigiami ir unikalūs skaičiai sąraše: [1, 2, 5, 8, 10, 12, 14, 800, 900]\n"
     ]
    }
   ],
   "source": [
    "# Išfiltruoti unikalius teigiamus numerius iš sąrašo:\n",
    "\n",
    "x = [1, 5, 1, 2, 8, -9, 10, 1, -8, -900, 14, 5, -8, 2, 1, -20, 900, 800, -6, -8, 12, 1]\n",
    "\n",
    "num_positive = [number for number in x if number >= 0]\n",
    "print(f\"Visi teigiami skaičiai sąraše: {num_positive}\")\n",
    "\n",
    "# set padeda atsikratyti pasikartojančių verčių:\n",
    "set_tmp = set(num_positive)\n",
    "\n",
    "num_positive = list(set_tmp)\n",
    "num_positive.sort(reverse = False)\n",
    "print(f\"Visi teigiami ir unikalūs skaičiai sąraše: {num_positive}\")\n"
   ]
  },
  {
   "cell_type": "markdown",
   "metadata": {},
   "source": [
    "### 03 | Program No. 3 (from 'Namų darbai 2')"
   ]
  },
  {
   "cell_type": "code",
   "execution_count": 98,
   "metadata": {},
   "outputs": [
    {
     "name": "stdout",
     "output_type": "stream",
     "text": [
      "Total profit will be 14943.96€\n"
     ]
    }
   ],
   "source": [
    "# 3. Paskaičiuoti pelną pardavus visas prekes. \n",
    "# Informacija apie kainą ir kiekius yra pateikiama  kaip dictionary, \n",
    "# atsakymą suapvalinti iki 2 skaičių po kablelio.\n",
    "\n",
    "x = {\n",
    "    \"cost_price\": 32.67,\n",
    "    \"sell_price\": 45.00,\n",
    "    \"inventory\": 1212\n",
    "    }\n",
    "\n",
    "cost = x.get(\"cost_price\")\n",
    "price = x.get(\"sell_price\")\n",
    "items = x.get(\"inventory\")\n",
    "\n",
    "total_profit = (price - cost) * items\n",
    "print(f\"Total profit will be {round(total_profit, 2)}€\")"
   ]
  }
 ],
 "metadata": {
  "interpreter": {
   "hash": "b89b5cfaba6639976dc87ff2fec6d58faec662063367e2c229c520fe71072417"
  },
  "kernelspec": {
   "display_name": "Python 3.10.1 64-bit",
   "language": "python",
   "name": "python3"
  },
  "language_info": {
   "codemirror_mode": {
    "name": "ipython",
    "version": 3
   },
   "file_extension": ".py",
   "mimetype": "text/x-python",
   "name": "python",
   "nbconvert_exporter": "python",
   "pygments_lexer": "ipython3",
   "version": "3.10.1"
  },
  "orig_nbformat": 4
 },
 "nbformat": 4,
 "nbformat_minor": 2
}

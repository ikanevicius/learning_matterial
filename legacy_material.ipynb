{
 "cells": [
  {
   "cell_type": "code",
   "execution_count": 103,
   "metadata": {},
   "outputs": [
    {
     "name": "stdout",
     "output_type": "stream",
     "text": [
      "Text inputed: 'vienas 2 ??'\n"
     ]
    },
    {
     "data": {
      "text/plain": [
       "'Letters: 6, numbers: 1, spaces: 2, symbols: 2.'"
      ]
     },
     "execution_count": 103,
     "metadata": {},
     "output_type": "execute_result"
    }
   ],
   "source": [
    "txt_imputed = input(\"Enter your text: \")\n",
    "print(f\"Text inputed: '{txt_imputed}'\")\n",
    "\n",
    "def analyze_txt(txt_imputed):\n",
    "    letters = numbers = spaces = symbols = 0\n",
    "    for i in txt_imputed:\n",
    "        if i.isalpha():\n",
    "            letters += 1\n",
    "        elif i.isdigit():\n",
    "            numbers += 1\n",
    "        elif i.isspace():\n",
    "            spaces += 1\n",
    "        else:\n",
    "            symbols += 1\n",
    "    return (f\"Letters: {letters}, numbers: {numbers}, spaces: {spaces}, symbols: {symbols}.\")\n",
    "\n",
    "analyze_txt(txt_imputed)"
   ]
  },
  {
   "cell_type": "code",
   "execution_count": 27,
   "metadata": {},
   "outputs": [
    {
     "data": {
      "text/plain": [
       "[5, 10, 15, 20, 25, 30, 35, 40, 45, 50, 55, 60, 65, 70, 75, 80, 85, 90, 95]"
      ]
     },
     "execution_count": 27,
     "metadata": {},
     "output_type": "execute_result"
    }
   ],
   "source": [
    "def list_maker():\n",
    "    list_start = int(input(\"Enter start number: \"))\n",
    "    list_end = int(input(\"Enter end number: \"))\n",
    "    list_step = int(input(\"Enter step: \"))\n",
    "\n",
    "    list_made = list(range(list_start, list_end, list_step))\n",
    "    return list_made\n",
    "\n",
    "list_maker()"
   ]
  },
  {
   "cell_type": "code",
   "execution_count": 36,
   "metadata": {},
   "outputs": [
    {
     "data": {
      "text/plain": [
       "'The difference between the smallest (2) and the biggest (9) numbers on the list was 7'"
      ]
     },
     "execution_count": 36,
     "metadata": {},
     "output_type": "execute_result"
    }
   ],
   "source": [
    "list_1 = [7, 5, 4, 2, 9, 3]\n",
    "\n",
    "def function_1(list_inputed):\n",
    "    list_inputed.sort()\n",
    "    smallest_num = list_inputed[0]\n",
    "    biggest_num = list_inputed[-1]\n",
    "    difference = biggest_num - smallest_num\n",
    "    return (f\"The difference between the smallest ({smallest_num}) and the biggest ({biggest_num}) numbers on the list was {difference}\")\n",
    "\n",
    "function_1(list_1)"
   ]
  },
  {
   "cell_type": "code",
   "execution_count": 95,
   "metadata": {},
   "outputs": [
    {
     "name": "stdout",
     "output_type": "stream",
     "text": [
      "Tarp skaičių 7 ir 8 anomalijos nėra.\n",
      "Tarp skaičių 8 ir 9 anomalijos nėra.\n",
      "Tarp skaičių 9 ir 10 anomalijos nėra.\n",
      "Tarp skaičių 10 ir 11 anomalijos nėra.\n",
      "Tarp skaičių 11 ir 12 anomalijos nėra.\n",
      "Anomalija yra! Skaičiai 12 ir 17 nėra einantys vienas po kito! Trūksta [13, 14, 15, 16].\n",
      "Tarp skaičių 17 ir 18 anomalijos nėra.\n",
      "Tarp skaičių 18 ir 19 anomalijos nėra.\n"
     ]
    }
   ],
   "source": [
    "list_2 = [7, 8, 9, 10, 11, 12, 17, 18, 19]\n",
    "\n",
    "def anomaly_checker(list_given):\n",
    "\n",
    "    tmp_set = set(list_given)\n",
    "    list_given = list(tmp_set)\n",
    "    \n",
    "    list_given.sort()\n",
    "    for number in list_given:\n",
    "        while len(list_given) > 1:\n",
    "            if number + 1 == list_given[1]:\n",
    "                print(f\"Tarp skaičių {number} ir {list_given[1]} anomalijos nėra.\")\n",
    "                list_given.pop(0)\n",
    "                number = list_given[0]\n",
    "            else:\n",
    "                numbers_missing = list(range(number + 1, list_given[1],))\n",
    "                print(f\"Anomalija yra! Skaičiai {number} ir {list_given[1]} nėra einantys vienas po kito! Trūksta {numbers_missing}.\")\n",
    "                list_given.pop(0)\n",
    "                number = list_given[0]\n",
    "\n",
    "anomaly_checker(list_2)\n"
   ]
  },
  {
   "cell_type": "code",
   "execution_count": null,
   "metadata": {},
   "outputs": [],
   "source": [
    "numbers = list(range(1, 101))\n",
    "for number in numbers:\n",
    "        if (number % 2 == 0) and (number % 3 == 0):\n",
    "            print(f\"{number:03d}: FizzBuzz\")\n",
    "        elif ((number % 2 != 0) and (number % 3 != 0)):\n",
    "            print(f\"{number:03d}: -\")\n",
    "        else:\n",
    "            if (number % 2 == 0):\n",
    "                print(f\"{number:03d}: Fizz\")\n",
    "            if (number % 3 == 0):\n",
    "                print(f\"{number:03d}: Buzz\")"
   ]
  },
  {
   "cell_type": "code",
   "execution_count": null,
   "metadata": {},
   "outputs": [],
   "source": [
    "# vartotojas sukuria norimą sąrašą:\n",
    "list_start = (int(input(\"From where the list should start? \")))\n",
    "list_end = (int(input(\"Where the list should end? \")))\n",
    "\n",
    "# sukuriamas sąrašas, kurį matys vartotojas:\n",
    "full_list_out = list(range(list_start, list_end))\n",
    "\n",
    "# sukuriamas sąrašas kuris bus naudojamas programos, nes:\n",
    "#       vartotojo įvestas paskutinis sk. iš tikro neįeina į programos naudojamą sąrašą;\n",
    "full_list = list(range(list_start, list_end + 1))\n",
    "\n",
    "# programa prašo vartotojo įvesti žingsnį:\n",
    "list_range = int(input(\"What`s the range should be? \"))\n",
    "list_in_use = full_list[::list_range]\n",
    "\n",
    "# programa vartotojui parodo sukurtą sąrašą \"nuo-iki\", kartu su įvestu žingsniu:\n",
    "print(f\"List that will be searched starts from {list_start} and ends on {list_end}, and the range is {list_range}!\")\n",
    "\n",
    "# programa teiraujasi koks skaičius bus ieškomas:\n",
    "num_searched = int(input(\"Enter the number you are looking for: \"))\n",
    "\n",
    "# programa patikrina įvestą skaičių su sąrašu:\n",
    "list_check = num_searched in list_in_use\n",
    "if list_check:\n",
    "    print(f\"Number {num_searched} is in the list!\")\n",
    "if list_check != True:\n",
    "    print(f\"Number {num_searched} is NOT in the list!\")"
   ]
  },
  {
   "cell_type": "code",
   "execution_count": null,
   "metadata": {},
   "outputs": [],
   "source": [
    "# tekstas su kuriuo yra dirbama:\n",
    "txt = \"Hello, my name is Linas and I`m learning Python!\"\n",
    "\n",
    "# ieškomo žodžio įvestis:\n",
    "word_selected = input(\"Enter the word you are looking: \")\n",
    "\n",
    "# sistema patikrina ar įvestas žodis yra teskte:\n",
    "word_check = word_selected in txt\n",
    "if word_check:\n",
    "    print (f\"Word '{word_selected}' is selected and ready to change.\")\n",
    "\n",
    "    # įvedamas žodis, kuriuo norima pakeisti pasirinktą tekstą:\n",
    "    change_to = input(f\"To what word you want to change '{word_selected}'?\")\n",
    "    txt = txt.replace(word_selected, change_to)\n",
    "\n",
    "    # vartotojui pateikiama informacija apie padarytus pakeitimus:\n",
    "    print(f\"The word '{word_selected}' has been replaced! The new text now looks like this:\")\n",
    "    print(f\"'{txt}'\")\n",
    "\n",
    "# sistemai nustačius, kad ieškomo žodžio tekste nėra:\n",
    "else:\n",
    "    print(f\"Word '{word_selected}' was not found.\")"
   ]
  },
  {
   "cell_type": "code",
   "execution_count": null,
   "metadata": {},
   "outputs": [],
   "source": [
    "market_cap = float(input(\"Current market price (€): \"))\n",
    "book_value = float(input(\"Current book value (€): \"))\n",
    "total_assets = float(input(\"Total assets of a company (€): \"))\n",
    "total_liabilities = float(input(\"Total liabilities of a company (€): \"))\n",
    "net_income = float(input(\"Net income of a company (€): \"))\n",
    "earnings = float(input(\"Earnings of a company (€): \"))\n",
    "sector = \"utility\"\n",
    "\n",
    "def count_PB_ratio(market_cap, book_value):\n",
    "    PB_ratio = market_cap / book_value\n",
    "    return round(PB_ratio, 2)\n",
    "\n",
    "def count_PE_ratio(market_cap, earnings):\n",
    "    PE_ratio = market_cap / earnings\n",
    "    return round(PE_ratio, 2)\n",
    "\n",
    "def count_shareholders_equity(total_assets, total_liabilities):\n",
    "    shareholders_equity = total_assets - total_liabilities\n",
    "    return round(shareholders_equity, 2)\n",
    "\n",
    "def count_return_on_equity(net_income, shareholders_equity):\n",
    "    return_on_equity = net_income / shareholders_equity\n",
    "    return round(return_on_equity, 2)"
   ]
  }
 ],
 "metadata": {
  "interpreter": {
   "hash": "b89b5cfaba6639976dc87ff2fec6d58faec662063367e2c229c520fe71072417"
  },
  "kernelspec": {
   "display_name": "Python 3.10.1 64-bit",
   "language": "python",
   "name": "python3"
  },
  "language_info": {
   "codemirror_mode": {
    "name": "ipython",
    "version": 3
   },
   "file_extension": ".py",
   "mimetype": "text/x-python",
   "name": "python",
   "nbconvert_exporter": "python",
   "pygments_lexer": "ipython3",
   "version": "3.10.1"
  },
  "orig_nbformat": 4
 },
 "nbformat": 4,
 "nbformat_minor": 2
}

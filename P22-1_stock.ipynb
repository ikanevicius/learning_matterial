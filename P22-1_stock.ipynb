{
 "cells": [
  {
   "cell_type": "code",
   "execution_count": 10,
   "metadata": {},
   "outputs": [
    {
     "name": "stdout",
     "output_type": "stream",
     "text": [
      "RED FLAG. \n",
      "P/B ratio is 19.53.\n",
      "Shareholders equity is positive (21.3€).\n"
     ]
    }
   ],
   "source": [
    "market_cap = float(input(\"Current market price (€): \"))\n",
    "book_value = float(input(\"Current book value (€): \"))\n",
    "total_assets = float(input(\"Total assets of a company (€): \"))\n",
    "total_liabilities = float(input(\"Total liabilities of a company (€): \"))\n",
    "net_income = float(input(\"Net income of a company (€): \"))\n",
    "earnings = float(input(\"Earnings of a company (€): \"))\n",
    "sector = \"utility\"\n",
    "\n",
    "def count_PB_ratio(market_cap, book_value):\n",
    "    PB_ratio = market_cap / book_value\n",
    "    return round(PB_ratio, 2)\n",
    "\n",
    "def count_PE_ratio(market_cap, earnings):\n",
    "    PE_ratio = market_cap / earnings\n",
    "    return round(PE_ratio, 2)\n",
    "\n",
    "def count_shareholders_equity(total_assets, total_liabilities):\n",
    "    shareholders_equity = total_assets - total_liabilities\n",
    "    return round(shareholders_equity, 2)\n",
    "\n",
    "def count_return_on_equity(net_income, shareholders_equity):\n",
    "    return_on_equity = net_income / shareholders_equity\n",
    "    return round(return_on_equity, 2)\n",
    "\n",
    "\n",
    "\n",
    "\n",
    "\n",
    "\n",
    "\n",
    "PB_ratio = count_PB_ratio(market_cap, book_value)\n",
    "if PB_ratio < 1.25:\n",
    "    print(f\"P/B ratio is {PB_ratio}.\")\n",
    "else:\n",
    "    print(f\"\"\"RED FLAG. \n",
    "P/B ratio is {round(PB_ratio, 2)}.\"\"\")\n",
    "\n",
    "shareholders_equity = count_shareholders_equity(total_assets, total_liabilities)\n",
    "if shareholders_equity > 0:\n",
    "    print(f\"Shareholders equity is positive ({round(shareholders_equity, 2)}€).\")\n",
    "\n",
    "\n",
    "if PB_ratio / shareholders_equity > 2 and PB_ratio / shareholders_equity < 0.5:\n",
    "    print(\"\"\"RED FLAG.\n",
    "P/B value and shareholders equity is not very simillar.\"\"\")\n",
    "elif PB_ratio / shareholders_equity < 2 and PB_ratio / shareholders_equity > 0.5:\n",
    "    print(\"\"\"P/B value and shareholders equity is simillar.\"\"\")\n",
    "\n",
    "\n",
    "return_on_equity = count_return_on_equity(net_income, shareholders_equity)\n",
    "# Return on Equity (ROE) is used to measure how well a company's management \n",
    "# is using its equity from investors to generate profit.\n",
    "\n"
   ]
  }
 ],
 "metadata": {
  "interpreter": {
   "hash": "b89b5cfaba6639976dc87ff2fec6d58faec662063367e2c229c520fe71072417"
  },
  "kernelspec": {
   "display_name": "Python 3.10.1 64-bit",
   "language": "python",
   "name": "python3"
  },
  "language_info": {
   "codemirror_mode": {
    "name": "ipython",
    "version": 3
   },
   "file_extension": ".py",
   "mimetype": "text/x-python",
   "name": "python",
   "nbconvert_exporter": "python",
   "pygments_lexer": "ipython3",
   "version": "3.10.1"
  },
  "orig_nbformat": 4
 },
 "nbformat": 4,
 "nbformat_minor": 2
}

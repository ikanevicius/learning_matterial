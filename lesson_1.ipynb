{
 "cells": [
  {
   "cell_type": "code",
   "execution_count": 8,
   "metadata": {},
   "outputs": [
    {
     "name": "stdout",
     "output_type": "stream",
     "text": [
      "5\n"
     ]
    }
   ],
   "source": [
    "name = 'Linas'\n",
    "lastname = \"Ikanevičius\"\n",
    "print(len(name))\n",
    "# len funkcija pasako kiek kintamajame yra simbolių (įskaitant tarpus);"
   ]
  },
  {
   "cell_type": "code",
   "execution_count": 103,
   "metadata": {},
   "outputs": [
    {
     "name": "stdout",
     "output_type": "stream",
     "text": [
      "Full list: [1, 2, 3, 4, 5, 6, 7, 8, 9, 10, 11, 12, 13, 14, 15]\n",
      "List that is beeing searched: [1, 3, 5, 7, 9, 11, 13, 15]\n",
      "Number 5 is in the list!\n"
     ]
    }
   ],
   "source": [
    "full_list = list(range(1, 16))\n",
    "# sukuriamas sąrašas, savyje talpinantis tam tikrą informaciją;\n",
    "# formulės range skliaustuose rašomas sąrašo ilgis iki skliaustuose essančio skaičiaus;\n",
    "\n",
    "value_of_numbers = sum(full_list)\n",
    "# skaičiavimus geriausia daryti atskirai, o ne \"print\" dalyje;\n",
    "\n",
    "part_of_list = full_list[::2]\n",
    "# naudojama logika, kai:\n",
    "    # pirmas skaičius pasako nuo kur pradėti (0 žymi pirmą skaičių); \n",
    "    # antras - kur pabaigti (pabaigos skaičius sistemos yra neimamas, todėl:\n",
    "             # galima pridėti papildomą skaičių (šiuo atveju 9);\n",
    "             # galima rašyti tik dvitaškį, kas reikš, kad imtis yra iki paskutinio sekos skaičiaus);\n",
    "    # trečias - žymi imties dydį (kas kiek simbolių paimti).\n",
    "\n",
    "part_of_list_reversed = part_of_list[::-1]\n",
    "# formulė [::-1] apverčia seką;\n",
    "\n",
    "print(\"Full list:\", full_list)\n",
    "print(\"List that is beeing searched:\", part_of_list)\n",
    "\n",
    "num_searched = int(input(\"Enter the number you are looking for: \"))\n",
    "# input visuomet bus teksto (string) pavidalu;\n",
    "# int funkcija pakeičia tekstą (string) į skaičių (integer);\n",
    "\n",
    "check = num_searched in part_of_list\n",
    "# programa patikrina įvestą numerį su sąrašu ir paverčia jį kintamuoju;\n",
    "if check:\n",
    "    print(f\"Number {num_searched} is in the list!\")\n",
    "\n",
    "if check != True:\n",
    "    print(f\"Number {num_searched} is not in the list!\")\n"
   ]
  },
  {
   "cell_type": "markdown",
   "metadata": {},
   "source": [
    "### Sąrašo kūrimas ir paieška jame"
   ]
  },
  {
   "cell_type": "code",
   "execution_count": 1,
   "metadata": {},
   "outputs": [
    {
     "name": "stdout",
     "output_type": "stream",
     "text": [
      "List that will be searched starts from -75 to 25, and the range is 5!\n",
      "Number -45 is in the list!\n"
     ]
    }
   ],
   "source": [
    "# vartotojas sukuria norimą sąrašą:\n",
    "list_start = (int(input(\"From where the list should start?\")))\n",
    "list_end = (int(input(\"Where the list should end?\")))\n",
    "\n",
    "# sukuriamas sąrašas kuris bus naudojamas programos:\n",
    "full_list = list(range(list_start, list_end + 1))\n",
    "\n",
    "# programa prašo vartotojo įvesti žingsnį:\n",
    "list_range = int(input(\"What`s the range should be?\"))\n",
    "part_of_list = full_list[::list_range]\n",
    "\n",
    "# programa vartotojui parodo sukurtą sąrašą \"nuo-iki\", kartu su įvestu žingsniu:\n",
    "print(f\"List that will be searched starts from {list_start} to {list_end}, and the range is {list_range}!\")\n",
    "\n",
    "# programa teiraujasi koks skaičius bus ieškomas:\n",
    "num_searched = int(input(\"Enter the number you are looking for: \"))\n",
    "\n",
    "# programa patikrina įvestą skaičių su sąrašu:\n",
    "list_check = num_searched in part_of_list\n",
    "if list_check:\n",
    "    print(f\"Number {num_searched} is in the list!\")\n",
    "if list_check != True:\n",
    "    print(f\"Number {num_searched} is NOT in the list!\")"
   ]
  },
  {
   "cell_type": "code",
   "execution_count": 8,
   "metadata": {},
   "outputs": [
    {
     "name": "stdout",
     "output_type": "stream",
     "text": [
      "9\n"
     ]
    }
   ],
   "source": []
  },
  {
   "cell_type": "code",
   "execution_count": 8,
   "metadata": {},
   "outputs": [
    {
     "name": "stdout",
     "output_type": "stream",
     "text": [
      "PYTHON MAKES ME REALLY HAPPY!\n",
      "PyThOn makes me really happy!\n"
     ]
    }
   ],
   "source": [
    "text = \"Python makes me really happy!\"\n",
    "print(text.upper())\n",
    "# po .upper ir kitų turi sekti skliaustai:\n",
    "        # jei keičiame visą kintamąjį, skliaustai lieka tušti, \n",
    "        # jei tik dalį - norimą pakeisti dalį įrašome į skliaustus;\n",
    "\n",
    "print(text.replace('Python','PyThOn'))\n",
    "# .replace pakeičia seną tekstą į naują - būtinos kabutės;"
   ]
  },
  {
   "cell_type": "code",
   "execution_count": 2,
   "metadata": {},
   "outputs": [
    {
     "name": "stdout",
     "output_type": "stream",
     "text": [
      "happy\n"
     ]
    }
   ],
   "source": [
    "word_to_find = input(\"Enter the word you want to find: \")\n",
    "txt = \"Hello World, I am happy to learn Python!\"\n",
    "print(txt[txt.find(\"happy\"):(txt.find(\"happy\") + len(\"happy\"))])\n",
    "# slicing - reikia pradžioje nurodyti nuo ko \"nupjaunam\", tik tada dedam laužtinius skliaustus."
   ]
  },
  {
   "cell_type": "code",
   "execution_count": null,
   "metadata": {},
   "outputs": [],
   "source": [
    "name_1 = \"Linas Ikanevičius\"\n",
    "name_2 = \"\"\n",
    "\n",
    "entered_name = input('Enter your name: ')\n",
    "entered_name in name\n",
    "    if ''"
   ]
  },
  {
   "cell_type": "code",
   "execution_count": 55,
   "metadata": {},
   "outputs": [
    {
     "name": "stdout",
     "output_type": "stream",
     "text": [
      "Welcome Linas Ikanevičius! You successfully created your new account!\n"
     ]
    }
   ],
   "source": [
    "name = input(\"Enter your name: \")\n",
    "surname = input(\"Enter your surname: \")\n",
    "\n",
    "account = name + \" \" + surname\n",
    "print(f\"Welcome {account}! You successfully created your new account!\")\n",
    "# šioje vietoje vartotojo paskyra yra pabaigta kurti;\n",
    "\n",
    "\n",
    "\n"
   ]
  },
  {
   "cell_type": "code",
   "execution_count": null,
   "metadata": {},
   "outputs": [],
   "source": []
  },
  {
   "cell_type": "code",
   "execution_count": 51,
   "metadata": {},
   "outputs": [
    {
     "data": {
      "text/plain": [
       "True"
      ]
     },
     "execution_count": 51,
     "metadata": {},
     "output_type": "execute_result"
    }
   ],
   "source": [
    "\n"
   ]
  }
 ],
 "metadata": {
  "interpreter": {
   "hash": "b89b5cfaba6639976dc87ff2fec6d58faec662063367e2c229c520fe71072417"
  },
  "kernelspec": {
   "display_name": "Python 3.10.1 64-bit",
   "language": "python",
   "name": "python3"
  },
  "language_info": {
   "codemirror_mode": {
    "name": "ipython",
    "version": 3
   },
   "file_extension": ".py",
   "mimetype": "text/x-python",
   "name": "python",
   "nbconvert_exporter": "python",
   "pygments_lexer": "ipython3",
   "version": "3.10.1"
  },
  "orig_nbformat": 4
 },
 "nbformat": 4,
 "nbformat_minor": 2
}

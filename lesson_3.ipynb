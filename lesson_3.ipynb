{
 "cells": [
  {
   "cell_type": "code",
   "execution_count": 23,
   "metadata": {},
   "outputs": [
    {
     "name": "stdout",
     "output_type": "stream",
     "text": [
      "9\n",
      "[1, 2, 3, 4, 5, 6, 7, 8, 9, 10]\n"
     ]
    },
    {
     "data": {
      "text/plain": [
       "False"
      ]
     },
     "execution_count": 23,
     "metadata": {},
     "output_type": "execute_result"
    }
   ],
   "source": [
    "list_1 = [1, 2, 3, 4, 5, 6, 7, 8, 9]\n",
    "print(len(list_1))\n",
    "list_1.append(10)\n",
    "print(list_1)\n",
    "\n",
    "12 in list_1"
   ]
  },
  {
   "cell_type": "code",
   "execution_count": 40,
   "metadata": {},
   "outputs": [
    {
     "name": "stdout",
     "output_type": "stream",
     "text": [
      "[1, 2, 3, 4, 5]\n",
      "[10, 11, 12, 13, 14, 15]\n",
      "[1, 2, 3, 4, 5, 10, 11, 12, 13, 14]\n",
      "[14, 13, 12, 11, 10, 5, 4, 3, 2, 1]\n"
     ]
    },
    {
     "data": {
      "text/plain": [
       "1"
      ]
     },
     "execution_count": 40,
     "metadata": {},
     "output_type": "execute_result"
    }
   ],
   "source": [
    "list_1 = [1, 2, 3, 4, 5]\n",
    "print(list_1)\n",
    "\n",
    "list_2 = [10, 11, 12, 13, 14, 15]\n",
    "print(list_2)\n",
    "\n",
    "full_list = list_1 + list_2\n",
    "full_list.pop(-1)\n",
    "print(full_list)\n",
    "\n",
    "full_list.sort(reverse=True)\n",
    "print(full_list)\n",
    "\n",
    "full_list.count(3)"
   ]
  },
  {
   "cell_type": "code",
   "execution_count": 50,
   "metadata": {},
   "outputs": [
    {
     "name": "stdout",
     "output_type": "stream",
     "text": [
      "[1, 2, ['3', 4, 5], [6, [7, 8]]]\n",
      "[6, [7, 8]]\n",
      "[7, 8]\n",
      "8\n"
     ]
    }
   ],
   "source": [
    "my_tuple = (1, 2, ['3', 4, 5], [6, [7, (8)]])\n",
    "tmp_list = list(my_tuple)\n",
    "print(tmp_list)\n",
    "\n",
    "part_1_tmp_list = (tmp_list[-1])\n",
    "print(part_1_tmp_list)\n",
    "\n",
    "part_2_tmp_list = (part_1_tmp_list[-1])\n",
    "print(part_2_tmp_list)\n",
    "\n",
    "print(part_2_tmp_list[-1])\n"
   ]
  },
  {
   "cell_type": "code",
   "execution_count": 58,
   "metadata": {},
   "outputs": [
    {
     "name": "stdout",
     "output_type": "stream",
     "text": [
      "Your number in 1\n",
      "Your number in 2\n",
      "Your number in 3\n",
      "Your number in 4\n",
      "Your number in 5\n",
      "Your number in 6\n",
      "Your number in 7\n",
      "Your number in 8\n",
      "Your number in 9\n",
      "Your number in 10\n",
      "1275\n"
     ]
    }
   ],
   "source": [
    "for number in range(1,11):\n",
    "    print(f'Your number in {number}')\n",
    "\n",
    "list_1 = list(range(1,51))\n",
    "print(sum(list_1))\n",
    "\n",
    "for number in range(1,51):\n",
    "    \n",
    "\n"
   ]
  },
  {
   "cell_type": "code",
   "execution_count": 59,
   "metadata": {},
   "outputs": [
    {
     "name": "stdout",
     "output_type": "stream",
     "text": [
      "10\n"
     ]
    }
   ],
   "source": [
    "for number in range(21):\n",
    "    if (number % 3 == 0 ):\n",
    "        print(number)\n"
   ]
  },
  {
   "cell_type": "code",
   "execution_count": 61,
   "metadata": {},
   "outputs": [
    {
     "name": "stdout",
     "output_type": "stream",
     "text": [
      "2\n",
      "6\n",
      "12\n",
      "20\n",
      "30\n",
      "42\n",
      "56\n",
      "72\n",
      "90\n",
      "110\n",
      "132\n",
      "156\n",
      "182\n",
      "210\n",
      "240\n",
      "272\n",
      "306\n",
      "342\n",
      "380\n",
      "420\n",
      "462\n",
      "506\n",
      "552\n",
      "600\n",
      "650\n"
     ]
    }
   ],
   "source": [
    "suma = 0\n",
    "for number in range(1, 51):\n",
    "    if (number + suma) % 2 == 0:\n",
    "        suma += number\n",
    "        print (suma)\n"
   ]
  },
  {
   "cell_type": "code",
   "execution_count": 65,
   "metadata": {},
   "outputs": [
    {
     "name": "stdout",
     "output_type": "stream",
     "text": [
      "5\n",
      "10\n",
      "15\n",
      "20\n",
      "25\n",
      "30\n",
      "35\n",
      "40\n",
      "45\n",
      "50\n"
     ]
    }
   ],
   "source": [
    "number = input(\"Enter your number: \")\n",
    "number = int(number)\n",
    "\n",
    "if (number ** 2) % 2 != 0:\n",
    "    for num in range(1,11):\n",
    "        print (num * number)\n",
    "else:\n",
    "    print (\"Number is not good.\")\n",
    "\n",
    "# ** 2 kelia kvadratu\n",
    "# ** 3 kelia kubu\n"
   ]
  },
  {
   "cell_type": "code",
   "execution_count": 72,
   "metadata": {},
   "outputs": [
    {
     "name": "stdout",
     "output_type": "stream",
     "text": [
      "[('Pirmadienis', 12), ('Pirmadienis', 13), ('Pirmadienis', 14), ('Pirmadienis', 15), ('Pirmadienis', 16), ('Pirmadienis', 17), ('Treciadienis', 12), ('Treciadienis', 13), ('Treciadienis', 14), ('Treciadienis', 15), ('Treciadienis', 16), ('Treciadienis', 17)]\n"
     ]
    }
   ],
   "source": [
    "dienos = ('Pirmadienis', 'Antradienis', 'Treciadienis', 'Ketvirtadienis', 'Penktadienis', 'Sestadienis' , 'Sekmadienis')\n",
    "valandos = [10, 11, 12, 13, 14, 15, 16, 17, 18, 19]\n",
    "\n",
    "kombinacijos = []\n",
    "\n",
    "tinkamos_dienos = ['Pirmadienis', 'Treciadienis']\n",
    "for diena in tinkamos_dienos:\n",
    "    for valanda in range(12,18):\n",
    "        kombinacijos.append( (diena, valanda) )\n",
    "\n",
    "print(kombinacijos)\n"
   ]
  },
  {
   "cell_type": "code",
   "execution_count": 83,
   "metadata": {},
   "outputs": [
    {
     "name": "stdout",
     "output_type": "stream",
     "text": [
      "{'brand': 'Ford', 'model': 'Mustang', 'year': 1964, 'color': 'red', 'used': True}\n",
      "{'model': 'Mustang', 'year': None, 'color': 'red', 'used': True}\n"
     ]
    }
   ],
   "source": [
    "car =\t{\n",
    "  \"brand\": \"Ford\",\n",
    "  \"model\": \"Mustang\",\n",
    "  \"year\": 1964\n",
    "}\n",
    "\n",
    "car.update( {'color': \"red\", 'used': True})\n",
    "print(car)\n",
    "\n",
    "car['year'] = None\n",
    "del car[\"brand\"]\n",
    "\n",
    "print(car)\n",
    "\n",
    "\n",
    "\n",
    "\n"
   ]
  },
  {
   "cell_type": "code",
   "execution_count": 90,
   "metadata": {},
   "outputs": [
    {
     "name": "stdout",
     "output_type": "stream",
     "text": [
      "{'apple', 'banana', ('nauja reiksme', 5), 'cherry'}\n"
     ]
    }
   ],
   "source": [
    "fruits = {\"apple\", \"banana\", \"cherry\"}\n",
    "fruits.add(('nauja reiksme', 5))\n",
    "\n",
    "print(fruits)\n"
   ]
  }
 ],
 "metadata": {
  "interpreter": {
   "hash": "b89b5cfaba6639976dc87ff2fec6d58faec662063367e2c229c520fe71072417"
  },
  "kernelspec": {
   "display_name": "Python 3.10.1 64-bit",
   "language": "python",
   "name": "python3"
  },
  "language_info": {
   "codemirror_mode": {
    "name": "ipython",
    "version": 3
   },
   "file_extension": ".py",
   "mimetype": "text/x-python",
   "name": "python",
   "nbconvert_exporter": "python",
   "pygments_lexer": "ipython3",
   "version": "3.10.1"
  },
  "orig_nbformat": 4
 },
 "nbformat": 4,
 "nbformat_minor": 2
}

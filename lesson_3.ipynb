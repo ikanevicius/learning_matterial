{
 "cells": [
  {
   "cell_type": "code",
   "execution_count": 23,
   "metadata": {},
   "outputs": [
    {
     "name": "stdout",
     "output_type": "stream",
     "text": [
      "9\n",
      "[1, 2, 3, 4, 5, 6, 7, 8, 9, 10]\n"
     ]
    },
    {
     "data": {
      "text/plain": [
       "False"
      ]
     },
     "execution_count": 23,
     "metadata": {},
     "output_type": "execute_result"
    }
   ],
   "source": [
    "list_1 = [1, 2, 3, 4, 5, 6, 7, 8, 9]\n",
    "print(len(list_1))\n",
    "list_1.append(10)\n",
    "print(list_1)\n",
    "\n",
    "12 in list_1"
   ]
  },
  {
   "cell_type": "code",
   "execution_count": 40,
   "metadata": {},
   "outputs": [
    {
     "name": "stdout",
     "output_type": "stream",
     "text": [
      "[1, 2, 3, 4, 5]\n",
      "[10, 11, 12, 13, 14, 15]\n",
      "[1, 2, 3, 4, 5, 10, 11, 12, 13, 14]\n",
      "[14, 13, 12, 11, 10, 5, 4, 3, 2, 1]\n"
     ]
    },
    {
     "data": {
      "text/plain": [
       "1"
      ]
     },
     "execution_count": 40,
     "metadata": {},
     "output_type": "execute_result"
    }
   ],
   "source": [
    "list_1 = [1, 2, 3, 4, 5]\n",
    "print(list_1)\n",
    "\n",
    "list_2 = [10, 11, 12, 13, 14, 15]\n",
    "print(list_2)\n",
    "\n",
    "full_list = list_1 + list_2\n",
    "full_list.pop(-1)\n",
    "print(full_list)\n",
    "\n",
    "full_list.sort(reverse=True)\n",
    "print(full_list)\n",
    "\n",
    "full_list.count(3)"
   ]
  },
  {
   "cell_type": "code",
   "execution_count": 50,
   "metadata": {},
   "outputs": [
    {
     "name": "stdout",
     "output_type": "stream",
     "text": [
      "[1, 2, ['3', 4, 5], [6, [7, 8]]]\n",
      "[6, [7, 8]]\n",
      "[7, 8]\n",
      "8\n"
     ]
    }
   ],
   "source": [
    "my_tuple = (1, 2, ['3', 4, 5], [6, [7, (8)]])\n",
    "tmp_list = list(my_tuple)\n",
    "print(tmp_list)\n",
    "\n",
    "part_1_tmp_list = (tmp_list[-1])\n",
    "print(part_1_tmp_list)\n",
    "\n",
    "part_2_tmp_list = (part_1_tmp_list[-1])\n",
    "print(part_2_tmp_list)\n",
    "\n",
    "print(part_2_tmp_list[-1])\n"
   ]
  },
  {
   "cell_type": "code",
   "execution_count": 58,
   "metadata": {},
   "outputs": [
    {
     "name": "stdout",
     "output_type": "stream",
     "text": [
      "Your number in 1\n",
      "Your number in 2\n",
      "Your number in 3\n",
      "Your number in 4\n",
      "Your number in 5\n",
      "Your number in 6\n",
      "Your number in 7\n",
      "Your number in 8\n",
      "Your number in 9\n",
      "Your number in 10\n",
      "1275\n"
     ]
    }
   ],
   "source": [
    "for number in range(1,11):\n",
    "    print(f'Your number in {number}')\n",
    "\n",
    "list_1 = list(range(1,51))\n",
    "print(sum(list_1))\n",
    "\n",
    "for number in range(1,51):\n",
    "    \n",
    "\n"
   ]
  }
 ],
 "metadata": {
  "interpreter": {
   "hash": "b89b5cfaba6639976dc87ff2fec6d58faec662063367e2c229c520fe71072417"
  },
  "kernelspec": {
   "display_name": "Python 3.10.1 64-bit",
   "language": "python",
   "name": "python3"
  },
  "language_info": {
   "codemirror_mode": {
    "name": "ipython",
    "version": 3
   },
   "file_extension": ".py",
   "mimetype": "text/x-python",
   "name": "python",
   "nbconvert_exporter": "python",
   "pygments_lexer": "ipython3",
   "version": "3.10.1"
  },
  "orig_nbformat": 4
 },
 "nbformat": 4,
 "nbformat_minor": 2
}

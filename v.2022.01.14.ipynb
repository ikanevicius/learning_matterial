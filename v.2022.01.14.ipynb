{
 "cells": [
  {
   "cell_type": "markdown",
   "metadata": {},
   "source": [
    "### Sąrašo sukūrimas ir paieška jame"
   ]
  },
  {
   "cell_type": "code",
   "execution_count": 2,
   "metadata": {},
   "outputs": [
    {
     "name": "stdout",
     "output_type": "stream",
     "text": [
      "List that will be searched starts from -75 to 25, and the range is 5!\n",
      "Number -45 is in the list!\n"
     ]
    }
   ],
   "source": [
    "# vartotojas sukuria norimą sąrašą:\n",
    "list_start = (int(input(\"From where the list should start? \")))\n",
    "list_end = (int(input(\"Where the list should end? \")))\n",
    "\n",
    "# sukuriamas sąrašas, kurį matys vartotojas:\n",
    "full_list_out = list(range(list_start, list_end))\n",
    "\n",
    "# sukuriamas sąrašas kuris bus naudojamas programos, nes:\n",
    "#       vartotojo įvestas paskutinis sk. iš tikro neįeina į programos naudojamą sąrašą;\n",
    "full_list = list(range(list_start, list_end + 1))\n",
    "\n",
    "# programa prašo vartotojo įvesti žingsnį:\n",
    "list_range = int(input(\"What`s the range should be? \"))\n",
    "list_in_use = full_list[::list_range]\n",
    "\n",
    "# programa vartotojui parodo sukurtą sąrašą \"nuo-iki\", kartu su įvestu žingsniu:\n",
    "print(f\"List that will be searched starts from {list_start} and ends on {list_end}, and the range is {list_range}!\")\n",
    "\n",
    "# programa teiraujasi koks skaičius bus ieškomas:\n",
    "num_searched = int(input(\"Enter the number you are looking for: \"))\n",
    "\n",
    "# programa patikrina įvestą skaičių su sąrašu:\n",
    "list_check = num_searched in list_in_use\n",
    "if list_check:\n",
    "    print(f\"Number {num_searched} is in the list!\")\n",
    "if list_check != True:\n",
    "    print(f\"Number {num_searched} is NOT in the list!\")"
   ]
  }
 ],
 "metadata": {
  "interpreter": {
   "hash": "b89b5cfaba6639976dc87ff2fec6d58faec662063367e2c229c520fe71072417"
  },
  "kernelspec": {
   "display_name": "Python 3.10.1 64-bit",
   "language": "python",
   "name": "python3"
  },
  "language_info": {
   "codemirror_mode": {
    "name": "ipython",
    "version": 3
   },
   "file_extension": ".py",
   "mimetype": "text/x-python",
   "name": "python",
   "nbconvert_exporter": "python",
   "pygments_lexer": "ipython3",
   "version": "3.10.1"
  },
  "orig_nbformat": 4
 },
 "nbformat": 4,
 "nbformat_minor": 2
}

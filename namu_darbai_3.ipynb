{
 "cells": [
  {
   "cell_type": "code",
   "execution_count": 4,
   "metadata": {},
   "outputs": [
    {
     "name": "stdout",
     "output_type": "stream",
     "text": [
      "Text you imputed: 'Hello, my name is Linas, and I`m learning Python for 1 month now.'\n",
      "1 number was found.\n",
      "48 letters were found.\n",
      "12 spaces were found.\n",
      "4 other symbols were found.\n"
     ]
    }
   ],
   "source": [
    "txt_imputed = input(\"Enter your text: \")\n",
    "print(f\"Text you imputed: '{txt_imputed}'\")\n",
    "\n",
    "def language_fix(count_arg):\n",
    "    \"\"\"Analizes argument (as integer) and decides if a language next to the argument should be in singular or plural form.\"\"\"\n",
    "    if int(count_arg) > 1 and int(count_arg) != 1:\n",
    "        return(f\"s were\")\n",
    "    else:\n",
    "        return(f\" was\")\n",
    "\n",
    "def print_result(tmp_arg):\n",
    "    count_arg = tmp_arg\n",
    "    result_arg = tmp_arg\n",
    "    print(f\"{result_arg} {result_type}{language_fix(count_arg)} found.\")\n",
    "\n",
    "tmp_arg = number_count = sum(symbol.isdigit() for symbol in txt_imputed)\n",
    "result_type = \"number\"\n",
    "print_result(tmp_arg)\n",
    "\n",
    "tmp_arg = letter_count = sum(symbol.isalpha() for symbol in txt_imputed)\n",
    "result_type = \"letter\"\n",
    "print_result(tmp_arg)\n",
    "\n",
    "tmp_arg = space_count = sum(symbol.isspace() for symbol in txt_imputed)\n",
    "result_type = \"space\"\n",
    "print_result(tmp_arg)\n",
    "\n",
    "tmp_arg = symbol_count = len(txt_imputed) - (number_count + letter_count + space_count)\n",
    "result_type = \"other symbol\"\n",
    "print_result(tmp_arg)"
   ]
  }
 ],
 "metadata": {
  "interpreter": {
   "hash": "b89b5cfaba6639976dc87ff2fec6d58faec662063367e2c229c520fe71072417"
  },
  "kernelspec": {
   "display_name": "Python 3.10.1 64-bit",
   "language": "python",
   "name": "python3"
  },
  "language_info": {
   "codemirror_mode": {
    "name": "ipython",
    "version": 3
   },
   "file_extension": ".py",
   "mimetype": "text/x-python",
   "name": "python",
   "nbconvert_exporter": "python",
   "pygments_lexer": "ipython3",
   "version": "3.10.1"
  },
  "orig_nbformat": 4
 },
 "nbformat": 4,
 "nbformat_minor": 2
}

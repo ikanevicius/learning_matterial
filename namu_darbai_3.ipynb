{
 "cells": [
  {
   "cell_type": "code",
   "execution_count": 39,
   "metadata": {},
   "outputs": [
    {
     "name": "stdout",
     "output_type": "stream",
     "text": [
      "Text you imputed: 'Hello, my name is Linas, and I`m learning Python 1 month now.'\n",
      "1 number was found.\n",
      "45 letters were found.\n",
      "11 spaces were found.\n",
      "4 other symbols were found.\n"
     ]
    }
   ],
   "source": [
    "txt_imputed = input(\"Enter your text: \")\n",
    "print(f\"Text you imputed: '{txt_imputed}'\")\n",
    "\n",
    "def language_fix(count_arg):\n",
    "    \"\"\"Analizes argument (as integer) and decides if a language next to the argument should be in singular or plural form.\"\"\"\n",
    "    if int(count_arg) > 1 and int(count_arg) != 1:\n",
    "        return(f\"s were\")\n",
    "    else:\n",
    "        return(f\" was\")\n",
    "\n",
    "def result(result_arg, result_type):\n",
    "    \"\"\"Creates final result string and prints it.\"\"\"\n",
    "    print(f\"{result_arg} {result_type}{language_fix(count_arg)} found.\")\n",
    "\n",
    "number_count = sum(symbol.isdigit() for symbol in txt_imputed)\n",
    "count_arg = number_count\n",
    "result_arg = number_count\n",
    "result_type = \"number\"\n",
    "result(result_arg, result_type)\n",
    "\n",
    "letter_count = sum(symbol.isalpha() for symbol in txt_imputed)\n",
    "count_arg = letter_count\n",
    "result_arg = letter_count\n",
    "result_type = \"letter\"\n",
    "result(result_arg, result_type)\n",
    "\n",
    "space_count = sum(symbol.isspace() for symbol in txt_imputed)\n",
    "count_arg = space_count\n",
    "result_arg = space_count\n",
    "result_type = \"space\"\n",
    "result(result_arg, result_type)\n",
    "\n",
    "symbol_count = len(txt_imputed) - (number_count + letter_count + space_count)\n",
    "count_arg = symbol_count\n",
    "result_arg = symbol_count\n",
    "result_type = \"other symbol\"\n",
    "result(result_arg, result_type)"
   ]
  }
 ],
 "metadata": {
  "interpreter": {
   "hash": "b89b5cfaba6639976dc87ff2fec6d58faec662063367e2c229c520fe71072417"
  },
  "kernelspec": {
   "display_name": "Python 3.10.1 64-bit",
   "language": "python",
   "name": "python3"
  },
  "language_info": {
   "codemirror_mode": {
    "name": "ipython",
    "version": 3
   },
   "file_extension": ".py",
   "mimetype": "text/x-python",
   "name": "python",
   "nbconvert_exporter": "python",
   "pygments_lexer": "ipython3",
   "version": "3.10.1"
  },
  "orig_nbformat": 4
 },
 "nbformat": 4,
 "nbformat_minor": 2
}

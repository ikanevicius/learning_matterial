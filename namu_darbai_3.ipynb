{
 "cells": [
  {
   "cell_type": "code",
   "execution_count": 103,
   "metadata": {},
   "outputs": [
    {
     "name": "stdout",
     "output_type": "stream",
     "text": [
      "Text inputed: 'vienas 2 ??'\n"
     ]
    },
    {
     "data": {
      "text/plain": [
       "'Letters: 6, numbers: 1, spaces: 2, symbols: 2.'"
      ]
     },
     "execution_count": 103,
     "metadata": {},
     "output_type": "execute_result"
    }
   ],
   "source": [
    "txt_imputed = input(\"Enter your text: \")\n",
    "print(f\"Text inputed: '{txt_imputed}'\")\n",
    "\n",
    "def analyze_txt(txt_imputed):\n",
    "    letters = numbers = spaces = symbols = 0\n",
    "    for i in txt_imputed:\n",
    "        if i.isalpha():\n",
    "            letters += 1\n",
    "        elif i.isdigit():\n",
    "            numbers += 1\n",
    "        elif i.isspace():\n",
    "            spaces += 1\n",
    "        else:\n",
    "            symbols += 1\n",
    "    return (f\"Letters: {letters}, numbers: {numbers}, spaces: {spaces}, symbols: {symbols}.\")\n",
    "\n",
    "analyze_txt(txt_imputed)"
   ]
  },
  {
   "cell_type": "code",
   "execution_count": 27,
   "metadata": {},
   "outputs": [
    {
     "data": {
      "text/plain": [
       "[5, 10, 15, 20, 25, 30, 35, 40, 45, 50, 55, 60, 65, 70, 75, 80, 85, 90, 95]"
      ]
     },
     "execution_count": 27,
     "metadata": {},
     "output_type": "execute_result"
    }
   ],
   "source": [
    "def list_maker():\n",
    "    list_start = int(input(\"Enter start number: \"))\n",
    "    list_end = int(input(\"Enter end number: \"))\n",
    "    list_step = int(input(\"Enter step: \"))\n",
    "\n",
    "    list_made = list(range(list_start, list_end, list_step))\n",
    "    return list_made\n",
    "\n",
    "list_maker()"
   ]
  },
  {
   "cell_type": "code",
   "execution_count": 36,
   "metadata": {},
   "outputs": [
    {
     "data": {
      "text/plain": [
       "'The difference between the smallest (2) and the biggest (9) numbers on the list was 7'"
      ]
     },
     "execution_count": 36,
     "metadata": {},
     "output_type": "execute_result"
    }
   ],
   "source": [
    "list_1 = [7, 5, 4, 2, 9, 3]\n",
    "\n",
    "def function_1(list_inputed):\n",
    "    list_inputed.sort()\n",
    "    smallest_num = list_inputed[0]\n",
    "    biggest_num = list_inputed[-1]\n",
    "    difference = biggest_num - smallest_num\n",
    "    return (f\"The difference between the smallest ({smallest_num}) and the biggest ({biggest_num}) numbers on the list was {difference}\")\n",
    "\n",
    "function_1(list_1)"
   ]
  },
  {
   "cell_type": "code",
   "execution_count": 95,
   "metadata": {},
   "outputs": [
    {
     "name": "stdout",
     "output_type": "stream",
     "text": [
      "Tarp skaičių 7 ir 8 anomalijos nėra.\n",
      "Tarp skaičių 8 ir 9 anomalijos nėra.\n",
      "Tarp skaičių 9 ir 10 anomalijos nėra.\n",
      "Tarp skaičių 10 ir 11 anomalijos nėra.\n",
      "Tarp skaičių 11 ir 12 anomalijos nėra.\n",
      "Anomalija yra! Skaičiai 12 ir 17 nėra einantys vienas po kito! Trūksta [13, 14, 15, 16].\n",
      "Tarp skaičių 17 ir 18 anomalijos nėra.\n",
      "Tarp skaičių 18 ir 19 anomalijos nėra.\n"
     ]
    }
   ],
   "source": [
    "list_2 = [7, 8, 9, 10, 11, 12, 17, 18, 19]\n",
    "\n",
    "def anomaly_checker(list_given):\n",
    "\n",
    "    tmp_set = set(list_given)\n",
    "    list_given = list(tmp_set)\n",
    "    \n",
    "    list_given.sort()\n",
    "    for number in list_given:\n",
    "        while len(list_given) > 1:\n",
    "            if number + 1 == list_given[1]:\n",
    "                print(f\"Tarp skaičių {number} ir {list_given[1]} anomalijos nėra.\")\n",
    "                list_given.pop(0)\n",
    "                number = list_given[0]\n",
    "            else:\n",
    "                numbers_missing = list(range(number + 1, list_given[1],))\n",
    "                print(f\"Anomalija yra! Skaičiai {number} ir {list_given[1]} nėra einantys vienas po kito! Trūksta {numbers_missing}.\")\n",
    "                list_given.pop(0)\n",
    "                number = list_given[0]\n",
    "\n",
    "anomaly_checker(list_2)\n"
   ]
  }
 ],
 "metadata": {
  "interpreter": {
   "hash": "b89b5cfaba6639976dc87ff2fec6d58faec662063367e2c229c520fe71072417"
  },
  "kernelspec": {
   "display_name": "Python 3.10.1 64-bit",
   "language": "python",
   "name": "python3"
  },
  "language_info": {
   "codemirror_mode": {
    "name": "ipython",
    "version": 3
   },
   "file_extension": ".py",
   "mimetype": "text/x-python",
   "name": "python",
   "nbconvert_exporter": "python",
   "pygments_lexer": "ipython3",
   "version": "3.10.1"
  },
  "orig_nbformat": 4
 },
 "nbformat": 4,
 "nbformat_minor": 2
}
